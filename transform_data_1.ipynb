{
 "cells": [
  {
   "cell_type": "code",
   "execution_count": null,
   "metadata": {},
   "outputs": [],
   "source": [
    "import altair as alt\n",
    "import pandas as pd\n",
    "from tqdm import tqdm"
   ]
  },
  {
   "cell_type": "code",
   "execution_count": 2,
   "metadata": {},
   "outputs": [
    {
     "name": "stdout",
     "output_type": "stream",
     "text": [
      "<class 'pandas.core.frame.DataFrame'>\n",
      "RangeIndex: 249467 entries, 0 to 249466\n",
      "Data columns (total 12 columns):\n",
      " #   Column                      Non-Null Count   Dtype         \n",
      "---  ------                      --------------   -----         \n",
      " 0   Container Plate             249467 non-null  object        \n",
      " 1   Stay Id                     249467 non-null  object        \n",
      " 2   Inbound Date Time           249467 non-null  datetime64[ns]\n",
      " 3   Outbound Date Time          249467 non-null  datetime64[ns]\n",
      " 4   Inbound Mean of Transport   249467 non-null  object        \n",
      " 5   Outbound Mean of Transport  249467 non-null  object        \n",
      " 6   ISO Type                    249467 non-null  object        \n",
      " 7   Document Type               249467 non-null  object        \n",
      " 8   Date Time of Movement       249467 non-null  datetime64[ns]\n",
      " 9   Container Action            249467 non-null  object        \n",
      " 10  Full Container?             249467 non-null  bool          \n",
      " 11  Gross Weight                249467 non-null  float64       \n",
      "dtypes: bool(1), datetime64[ns](3), float64(1), object(7)\n",
      "memory usage: 21.2+ MB\n"
     ]
    }
   ],
   "source": [
    "path = \"data\\\\simulated_container_stays.csv\"\n",
    "data = pd.read_csv(path, parse_dates=[\"Inbound Date Time\", \"Outbound Date Time\", \"Date Time of Movement\"])\n",
    "data.info()"
   ]
  },
  {
   "cell_type": "code",
   "execution_count": null,
   "metadata": {},
   "outputs": [
    {
     "data": {
      "text/html": [
       "<div>\n",
       "<style scoped>\n",
       "    .dataframe tbody tr th:only-of-type {\n",
       "        vertical-align: middle;\n",
       "    }\n",
       "\n",
       "    .dataframe tbody tr th {\n",
       "        vertical-align: top;\n",
       "    }\n",
       "\n",
       "    .dataframe thead th {\n",
       "        text-align: right;\n",
       "    }\n",
       "</style>\n",
       "<table border=\"1\" class=\"dataframe\">\n",
       "  <thead>\n",
       "    <tr style=\"text-align: right;\">\n",
       "      <th></th>\n",
       "      <th>Stay Id</th>\n",
       "      <th>In/Out</th>\n",
       "      <th>Date</th>\n",
       "    </tr>\n",
       "  </thead>\n",
       "  <tbody>\n",
       "    <tr>\n",
       "      <th>217516</th>\n",
       "      <td>USA7OPCDDXPQ46GR58QN0A45ADXY8YBDJBRF</td>\n",
       "      <td>In</td>\n",
       "      <td>2021-11-01 00:17:54</td>\n",
       "    </tr>\n",
       "    <tr>\n",
       "      <th>230002</th>\n",
       "      <td>7H9EDNU81PC08SJRY4QJDRQYL4FFGKE4YQXY</td>\n",
       "      <td>In</td>\n",
       "      <td>2021-11-01 00:20:44</td>\n",
       "    </tr>\n",
       "    <tr>\n",
       "      <th>48672</th>\n",
       "      <td>3753HW598Q9DVIAJGBLDKTJRC02NO360RB5P</td>\n",
       "      <td>In</td>\n",
       "      <td>2021-11-01 00:38:50</td>\n",
       "    </tr>\n",
       "    <tr>\n",
       "      <th>96024</th>\n",
       "      <td>1VMGONZ1ZVOK579DDROS1J5FNK550C5E1R7P</td>\n",
       "      <td>In</td>\n",
       "      <td>2021-11-01 00:44:12</td>\n",
       "    </tr>\n",
       "    <tr>\n",
       "      <th>168020</th>\n",
       "      <td>PFPEIMY5COT7A489XXAK53GCR1QPJR68K9F3</td>\n",
       "      <td>In</td>\n",
       "      <td>2021-11-01 00:48:27</td>\n",
       "    </tr>\n",
       "    <tr>\n",
       "      <th>102944</th>\n",
       "      <td>ZSVPOR94SA36L1U9OVM9B3KAHQ1WD2RKC6EI</td>\n",
       "      <td>In</td>\n",
       "      <td>2021-11-01 01:02:28</td>\n",
       "    </tr>\n",
       "    <tr>\n",
       "      <th>102396</th>\n",
       "      <td>EDYGC23WJAFFHQR1I5A4YHKR5JI78N0Y3QAW</td>\n",
       "      <td>In</td>\n",
       "      <td>2021-11-01 01:04:52</td>\n",
       "    </tr>\n",
       "    <tr>\n",
       "      <th>92128</th>\n",
       "      <td>FYLNK5RU99BG4A8DUYIW1ZENULWRIVI1OTA6</td>\n",
       "      <td>In</td>\n",
       "      <td>2021-11-01 01:09:14</td>\n",
       "    </tr>\n",
       "    <tr>\n",
       "      <th>235650</th>\n",
       "      <td>LEAPNNC7A77LP2664UDMHRN4IFP65DNAOMYJ</td>\n",
       "      <td>In</td>\n",
       "      <td>2021-11-01 01:17:52</td>\n",
       "    </tr>\n",
       "    <tr>\n",
       "      <th>133604</th>\n",
       "      <td>6M5VNLJNOGI0CKT0SSN0A9DQKJC661XUUGEJ</td>\n",
       "      <td>In</td>\n",
       "      <td>2021-11-01 01:25:19</td>\n",
       "    </tr>\n",
       "  </tbody>\n",
       "</table>\n",
       "</div>"
      ],
      "text/plain": [
       "                                     Stay Id In/Out                Date\n",
       "217516  USA7OPCDDXPQ46GR58QN0A45ADXY8YBDJBRF     In 2021-11-01 00:17:54\n",
       "230002  7H9EDNU81PC08SJRY4QJDRQYL4FFGKE4YQXY     In 2021-11-01 00:20:44\n",
       "48672   3753HW598Q9DVIAJGBLDKTJRC02NO360RB5P     In 2021-11-01 00:38:50\n",
       "96024   1VMGONZ1ZVOK579DDROS1J5FNK550C5E1R7P     In 2021-11-01 00:44:12\n",
       "168020  PFPEIMY5COT7A489XXAK53GCR1QPJR68K9F3     In 2021-11-01 00:48:27\n",
       "102944  ZSVPOR94SA36L1U9OVM9B3KAHQ1WD2RKC6EI     In 2021-11-01 01:02:28\n",
       "102396  EDYGC23WJAFFHQR1I5A4YHKR5JI78N0Y3QAW     In 2021-11-01 01:04:52\n",
       "92128   FYLNK5RU99BG4A8DUYIW1ZENULWRIVI1OTA6     In 2021-11-01 01:09:14\n",
       "235650  LEAPNNC7A77LP2664UDMHRN4IFP65DNAOMYJ     In 2021-11-01 01:17:52\n",
       "133604  6M5VNLJNOGI0CKT0SSN0A9DQKJC661XUUGEJ     In 2021-11-01 01:25:19"
      ]
     },
     "execution_count": 5,
     "metadata": {},
     "output_type": "execute_result"
    }
   ],
   "source": [
    "aux_data = data[[\"Stay Id\", \"Inbound Date Time\", \"Outbound Date Time\"]].drop_duplicates()\n",
    "\n",
    "values = []\n",
    "for _, row in aux_data.iterrows():\n",
    "    values.append({\"Stay Id\": row[\"Stay Id\"], \"In/Out\": \"In\", \"Date\": row[\"Inbound Date Time\"]})\n",
    "    values.append({\"Stay Id\": row[\"Stay Id\"], \"In/Out\": \"Out\", \"Date\": row[\"Outbound Date Time\"]})\n",
    "\n",
    "cont_throughput = pd.DataFrame(values)\n",
    "cont_throughput = cont_throughput.sort_values(by=[\"Date\"])\n",
    "cont_throughput.to_csv(\"data\\\\container_throughput.csv\", index=False)\n",
    "cont_throughput.head(10)"
   ]
  },
  {
   "cell_type": "code",
   "execution_count": 6,
   "metadata": {},
   "outputs": [
    {
     "ename": "MaxRowsError",
     "evalue": "The number of rows in your dataset is greater than the maximum allowed (5000).\n\nTry enabling the VegaFusion data transformer which raises this limit by pre-evaluating data\ntransformations in Python.\n    >> import altair as alt\n    >> alt.data_transformers.enable(\"vegafusion\")\n\nOr, see https://altair-viz.github.io/user_guide/large_datasets.html for additional information\non how to plot large datasets.",
     "output_type": "error",
     "traceback": [
      "\u001b[1;31m---------------------------------------------------------------------------\u001b[0m",
      "\u001b[1;31mMaxRowsError\u001b[0m                              Traceback (most recent call last)",
      "File \u001b[1;32mc:\\Users\\Afonso\\AppData\\Local\\Programs\\Python\\Python312\\Lib\\site-packages\\altair\\vegalite\\v5\\api.py:3778\u001b[0m, in \u001b[0;36mChart.to_dict\u001b[1;34m(self, validate, format, ignore, context)\u001b[0m\n\u001b[0;32m   3776\u001b[0m     copy\u001b[38;5;241m.\u001b[39mdata \u001b[38;5;241m=\u001b[39m core\u001b[38;5;241m.\u001b[39mInlineData(values\u001b[38;5;241m=\u001b[39m[{}])\n\u001b[0;32m   3777\u001b[0m     \u001b[38;5;28;01mreturn\u001b[39;00m \u001b[38;5;28msuper\u001b[39m(Chart, copy)\u001b[38;5;241m.\u001b[39mto_dict(\u001b[38;5;241m*\u001b[39m\u001b[38;5;241m*\u001b[39mkwds)\n\u001b[1;32m-> 3778\u001b[0m \u001b[38;5;28;01mreturn\u001b[39;00m \u001b[38;5;28;43msuper\u001b[39;49m\u001b[43m(\u001b[49m\u001b[43m)\u001b[49m\u001b[38;5;241;43m.\u001b[39;49m\u001b[43mto_dict\u001b[49m\u001b[43m(\u001b[49m\u001b[38;5;241;43m*\u001b[39;49m\u001b[38;5;241;43m*\u001b[39;49m\u001b[43mkwds\u001b[49m\u001b[43m)\u001b[49m\n",
      "File \u001b[1;32mc:\\Users\\Afonso\\AppData\\Local\\Programs\\Python\\Python312\\Lib\\site-packages\\altair\\vegalite\\v5\\api.py:1804\u001b[0m, in \u001b[0;36mTopLevelMixin.to_dict\u001b[1;34m(self, validate, format, ignore, context)\u001b[0m\n\u001b[0;32m   1801\u001b[0m     \u001b[38;5;28;01mexcept\u001b[39;00m \u001b[38;5;167;01mTypeError\u001b[39;00m:\n\u001b[0;32m   1802\u001b[0m         \u001b[38;5;66;03m# Non-narwhalifiable type supported by Altair, such as dict\u001b[39;00m\n\u001b[0;32m   1803\u001b[0m         data \u001b[38;5;241m=\u001b[39m original_data\n\u001b[1;32m-> 1804\u001b[0m     copy\u001b[38;5;241m.\u001b[39mdata \u001b[38;5;241m=\u001b[39m \u001b[43m_prepare_data\u001b[49m\u001b[43m(\u001b[49m\u001b[43mdata\u001b[49m\u001b[43m,\u001b[49m\u001b[43m \u001b[49m\u001b[43mcontext\u001b[49m\u001b[43m)\u001b[49m\n\u001b[0;32m   1805\u001b[0m     context[\u001b[38;5;124m\"\u001b[39m\u001b[38;5;124mdata\u001b[39m\u001b[38;5;124m\"\u001b[39m] \u001b[38;5;241m=\u001b[39m data\n\u001b[0;32m   1807\u001b[0m \u001b[38;5;66;03m# remaining to_dict calls are not at top level\u001b[39;00m\n",
      "File \u001b[1;32mc:\\Users\\Afonso\\AppData\\Local\\Programs\\Python\\Python312\\Lib\\site-packages\\altair\\vegalite\\v5\\api.py:278\u001b[0m, in \u001b[0;36m_prepare_data\u001b[1;34m(data, context)\u001b[0m\n\u001b[0;32m    276\u001b[0m \u001b[38;5;28;01melif\u001b[39;00m \u001b[38;5;129;01mnot\u001b[39;00m \u001b[38;5;28misinstance\u001b[39m(data, \u001b[38;5;28mdict\u001b[39m) \u001b[38;5;129;01mand\u001b[39;00m _is_data_type(data):\n\u001b[0;32m    277\u001b[0m     \u001b[38;5;28;01mif\u001b[39;00m func \u001b[38;5;241m:=\u001b[39m data_transformers\u001b[38;5;241m.\u001b[39mget():\n\u001b[1;32m--> 278\u001b[0m         data \u001b[38;5;241m=\u001b[39m \u001b[43mfunc\u001b[49m\u001b[43m(\u001b[49m\u001b[43mnw\u001b[49m\u001b[38;5;241;43m.\u001b[39;49m\u001b[43mto_native\u001b[49m\u001b[43m(\u001b[49m\u001b[43mdata\u001b[49m\u001b[43m,\u001b[49m\u001b[43m \u001b[49m\u001b[43mstrict\u001b[49m\u001b[38;5;241;43m=\u001b[39;49m\u001b[38;5;28;43;01mFalse\u001b[39;49;00m\u001b[43m)\u001b[49m\u001b[43m)\u001b[49m\n\u001b[0;32m    280\u001b[0m \u001b[38;5;66;03m# convert string input to a URLData\u001b[39;00m\n\u001b[0;32m    281\u001b[0m \u001b[38;5;28;01melif\u001b[39;00m \u001b[38;5;28misinstance\u001b[39m(data, \u001b[38;5;28mstr\u001b[39m):\n",
      "File \u001b[1;32mc:\\Users\\Afonso\\AppData\\Local\\Programs\\Python\\Python312\\Lib\\site-packages\\altair\\vegalite\\data.py:42\u001b[0m, in \u001b[0;36mdefault_data_transformer\u001b[1;34m(data, max_rows)\u001b[0m\n\u001b[0;32m     39\u001b[0m     \u001b[38;5;28;01mreturn\u001b[39;00m pipe\n\u001b[0;32m     41\u001b[0m \u001b[38;5;28;01melse\u001b[39;00m:\n\u001b[1;32m---> 42\u001b[0m     \u001b[38;5;28;01mreturn\u001b[39;00m to_values(\u001b[43mlimit_rows\u001b[49m\u001b[43m(\u001b[49m\u001b[43mdata\u001b[49m\u001b[43m,\u001b[49m\u001b[43m \u001b[49m\u001b[43mmax_rows\u001b[49m\u001b[38;5;241;43m=\u001b[39;49m\u001b[43mmax_rows\u001b[49m\u001b[43m)\u001b[49m)\n",
      "File \u001b[1;32mc:\\Users\\Afonso\\AppData\\Local\\Programs\\Python\\Python312\\Lib\\site-packages\\altair\\utils\\data.py:157\u001b[0m, in \u001b[0;36mlimit_rows\u001b[1;34m(data, max_rows)\u001b[0m\n\u001b[0;32m    154\u001b[0m     values \u001b[38;5;241m=\u001b[39m data\n\u001b[0;32m    156\u001b[0m \u001b[38;5;28;01mif\u001b[39;00m max_rows \u001b[38;5;129;01mis\u001b[39;00m \u001b[38;5;129;01mnot\u001b[39;00m \u001b[38;5;28;01mNone\u001b[39;00m \u001b[38;5;129;01mand\u001b[39;00m \u001b[38;5;28mlen\u001b[39m(values) \u001b[38;5;241m>\u001b[39m max_rows:\n\u001b[1;32m--> 157\u001b[0m     \u001b[43mraise_max_rows_error\u001b[49m\u001b[43m(\u001b[49m\u001b[43m)\u001b[49m\n\u001b[0;32m    159\u001b[0m \u001b[38;5;28;01mreturn\u001b[39;00m data\n",
      "File \u001b[1;32mc:\\Users\\Afonso\\AppData\\Local\\Programs\\Python\\Python312\\Lib\\site-packages\\altair\\utils\\data.py:140\u001b[0m, in \u001b[0;36mlimit_rows.<locals>.raise_max_rows_error\u001b[1;34m()\u001b[0m\n\u001b[0;32m    127\u001b[0m \u001b[38;5;28;01mdef\u001b[39;00m \u001b[38;5;21mraise_max_rows_error\u001b[39m():\n\u001b[0;32m    128\u001b[0m     msg \u001b[38;5;241m=\u001b[39m (\n\u001b[0;32m    129\u001b[0m         \u001b[38;5;124m\"\u001b[39m\u001b[38;5;124mThe number of rows in your dataset is greater \u001b[39m\u001b[38;5;124m\"\u001b[39m\n\u001b[0;32m    130\u001b[0m         \u001b[38;5;124mf\u001b[39m\u001b[38;5;124m\"\u001b[39m\u001b[38;5;124mthan the maximum allowed (\u001b[39m\u001b[38;5;132;01m{\u001b[39;00mmax_rows\u001b[38;5;132;01m}\u001b[39;00m\u001b[38;5;124m).\u001b[39m\u001b[38;5;130;01m\\n\u001b[39;00m\u001b[38;5;130;01m\\n\u001b[39;00m\u001b[38;5;124m\"\u001b[39m\n\u001b[1;32m   (...)\u001b[0m\n\u001b[0;32m    138\u001b[0m         \u001b[38;5;124m\"\u001b[39m\u001b[38;5;124mon how to plot large datasets.\u001b[39m\u001b[38;5;124m\"\u001b[39m\n\u001b[0;32m    139\u001b[0m     )\n\u001b[1;32m--> 140\u001b[0m     \u001b[38;5;28;01mraise\u001b[39;00m MaxRowsError(msg)\n",
      "\u001b[1;31mMaxRowsError\u001b[0m: The number of rows in your dataset is greater than the maximum allowed (5000).\n\nTry enabling the VegaFusion data transformer which raises this limit by pre-evaluating data\ntransformations in Python.\n    >> import altair as alt\n    >> alt.data_transformers.enable(\"vegafusion\")\n\nOr, see https://altair-viz.github.io/user_guide/large_datasets.html for additional information\non how to plot large datasets."
     ]
    },
    {
     "data": {
      "text/plain": [
       "alt.Chart(...)"
      ]
     },
     "execution_count": 6,
     "metadata": {},
     "output_type": "execute_result"
    }
   ],
   "source": [
    "alt.Chart(cont_throughput).mark_line().encode(\n",
    "    x=\"Date:T\",\n",
    "    y=\"count()\",\n",
    "    color=\"In/Out\"\n",
    ").properties(\n",
    "    width=800,\n",
    "    height=400\n",
    ")"
   ]
  }
 ],
 "metadata": {
  "kernelspec": {
   "display_name": "Python 3",
   "language": "python",
   "name": "python3"
  },
  "language_info": {
   "codemirror_mode": {
    "name": "ipython",
    "version": 3
   },
   "file_extension": ".py",
   "mimetype": "text/x-python",
   "name": "python",
   "nbconvert_exporter": "python",
   "pygments_lexer": "ipython3",
   "version": "3.12.3"
  }
 },
 "nbformat": 4,
 "nbformat_minor": 2
}
